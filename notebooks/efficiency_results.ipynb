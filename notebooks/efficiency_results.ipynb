{
 "cells": [
  {
   "cell_type": "code",
   "execution_count": null,
   "metadata": {},
   "outputs": [],
   "source": [
    "# python libraries\n",
    "import pandas as pd\n",
    "import numpy as np\n",
    "from math import log\n",
    "\n",
    "import re\n",
    "\n",
    "import matplotlib.pyplot as plt\n",
    "import seaborn as sns\n",
    "\n",
    "# load R into python\n",
    "% load_ext rpy2.ipython\n",
    "# show plots inline\n",
    "% matplotlib inline"
   ]
  },
  {
   "cell_type": "code",
   "execution_count": null,
   "metadata": {},
   "outputs": [],
   "source": [
    "# set figure aesthetics\n",
    "\n",
    "cat_colours = sns.xkcd_palette([\"cerulean\", \"goldenrod\", \"red\", \"grass green\"])\n",
    "\n",
    "chain_colours = sns.color_palette()\n",
    "\n",
    "sns.set_context(rc={\"lines.linewidth\":1.2})\n",
    "\n",
    "sns.set(font_scale=1.3)"
   ]
  },
  {
   "cell_type": "code",
   "execution_count": null,
   "metadata": {},
   "outputs": [],
   "source": [
    "%%R \n",
    "# R libraries\n",
    "library(\"lme4\")\n",
    "library(\"lmerTest\")"
   ]
  },
  {
   "cell_type": "code",
   "execution_count": null,
   "metadata": {},
   "outputs": [],
   "source": [
    "# function to make printing from R output faster\n",
    "\n",
    "def print_output(output):\n",
    "    \n",
    "    for line in output:\n",
    "        \n",
    "        print line"
   ]
  },
  {
   "cell_type": "code",
   "execution_count": null,
   "metadata": {},
   "outputs": [],
   "source": [
    "# read in data files \n",
    "ex1 = pd.read_csv(\"../data_files/ex1.csv\")\n",
    "ex2 = pd.read_csv(\"../data_files/ex2.csv\")\n",
    "ex3 = pd.read_csv(\"../data_files/ex3.csv\")"
   ]
  },
  {
   "cell_type": "markdown",
   "metadata": {},
   "source": [
    "## Contents\n",
    "\n",
    "1. <a href='#funcs'>Functions for efficiency measures</a>\n",
    "2. <a href='#gest-len'>Gesture sequence length</a>\n",
    "    * <a href='#gl-ex1'>Experiment 1</a>\n",
    "    * <a href='#gl-ex2'>Experiment 2</a>\n",
    "    * <a href='#gl-ex3'>Experiment 3</a>\n",
    "3. <a href='#reps'>Frequency of repetitions</a>\n",
    "    * <a href='#r-ex1'>Experiment 1</a>\n",
    "    * <a href='#r-ex2'>Experiment 2</a>\n",
    "    * <a href='#r-ex3'>Experiment 3</a>"
   ]
  },
  {
   "cell_type": "markdown",
   "metadata": {},
   "source": [
    "## 1. Functions for efficiency measures"
   ]
  },
  {
   "cell_type": "markdown",
   "metadata": {},
   "source": [
    "<a id='funcs'></a>"
   ]
  },
  {
   "cell_type": "code",
   "execution_count": null,
   "metadata": {},
   "outputs": [],
   "source": [
    "# get length of gesture code\n",
    "\n",
    "# split gesture into list of elements\n",
    "\n",
    "# count number of elements\n",
    "\n",
    "def code_length(df):\n",
    "    \n",
    "    # for each row in df\n",
    "    for row in range(len(df)):\n",
    "        \n",
    "        # get code string\n",
    "        code = df.loc[row, \"code_string\"]\n",
    "        \n",
    "        # if there is no value, data missing\n",
    "        if pd.isnull(code):\n",
    "            \n",
    "            df.loc[row, 'code_len'] = np.nan\n",
    "        \n",
    "        else:\n",
    "            \n",
    "            # split code into list elements\n",
    "            elements = code.split(',')\n",
    "            \n",
    "            # count elements\n",
    "            code_len = len(elements)\n",
    "            \n",
    "            df.loc[row, 'code_len'] = code_len\n",
    "            "
   ]
  },
  {
   "cell_type": "code",
   "execution_count": null,
   "metadata": {},
   "outputs": [],
   "source": [
    "#takes a list of gesture coding, and pulls out the shapes, giving a list of all instances of all shapes\n",
    "# and a set of the shapes used\n",
    "\n",
    "def shape_list(alist,reg):\n",
    "    \n",
    "    \"\"\"\n",
    "    \n",
    "    Takes a list of gesture coding and gives a list of each shape,\n",
    "    and the set of unique shapes.\n",
    "    \n",
    "    Takes as input a list of code and the regular expression that identifies gesture shapes.\n",
    "    \n",
    "    \"\"\"\n",
    "    \n",
    "    #join list of code\n",
    "    allcode=(',').join(alist)\n",
    "    \n",
    "    #search for gesture shapes (expressions starting with 1h or 2h)\n",
    "    regex=re.compile(reg)\n",
    "    setlist=re.findall(regex,allcode)\n",
    "    \n",
    "    #return the list of shapes and the set of different shapes\n",
    "    return setlist, set(setlist)"
   ]
  },
  {
   "cell_type": "code",
   "execution_count": null,
   "metadata": {},
   "outputs": [],
   "source": [
    "def remove_rep_tag(df):\n",
    "    \n",
    "    '''\n",
    "    Remove gesture internal repetitions from code\n",
    "    \n",
    "    '''\n",
    "    \n",
    "    for row in range(len(df)):\n",
    "        \n",
    "        code = df.loc[row, 'code_string']\n",
    "        \n",
    "        if pd.isnull(code) == False:\n",
    "        \n",
    "            new_code = re.sub('repeat\\[|\\]', '', code)\n",
    "        \n",
    "            df.loc[row, 'code_string'] = new_code"
   ]
  },
  {
   "cell_type": "code",
   "execution_count": null,
   "metadata": {},
   "outputs": [],
   "source": [
    "\n",
    "def count_repeats(code):\n",
    "    \n",
    "    ''' \n",
    "    \n",
    "    Count the number of repetitions in a gesture sequence\n",
    "    \n",
    "    '''\n",
    "    \n",
    "    code_list, code_set = shape_list([code], r'1h.*?\\b|2h.*?\\b')\n",
    "    \n",
    "    num_reps = len(code_list) - len(code_set)\n",
    "    \n",
    "    return num_reps"
   ]
  },
  {
   "cell_type": "code",
   "execution_count": null,
   "metadata": {},
   "outputs": [],
   "source": [
    "def count_repeats_df(df):\n",
    "    \n",
    "    '''\n",
    "    Count number of repetitions for each row in a data frame.\n",
    "    \n",
    "    '''\n",
    "    \n",
    "    for row in range(len(df)):\n",
    "        \n",
    "        code_str = df.loc[row, \"code_string\"]\n",
    "        \n",
    "        if pd.isnull(code_str) == False:\n",
    "            \n",
    "            df.loc[row, \"num_reps\"] = count_repeats(code_str)\n",
    "            \n",
    "            "
   ]
  },
  {
   "cell_type": "markdown",
   "metadata": {},
   "source": [
    "## 2. Gesture sequence length"
   ]
  },
  {
   "cell_type": "markdown",
   "metadata": {},
   "source": [
    "<a id='gest-len'></a>"
   ]
  },
  {
   "cell_type": "code",
   "execution_count": null,
   "metadata": {},
   "outputs": [],
   "source": [
    "# add code length column\n",
    "code_length(ex1)\n",
    "code_length(ex2)\n",
    "code_length(ex3)"
   ]
  },
  {
   "cell_type": "code",
   "execution_count": null,
   "metadata": {},
   "outputs": [],
   "source": [
    "ex1.to_csv(\"../data_files/ex1.csv\", index=False)\n",
    "ex2.to_csv(\"../data_files/ex2.csv\", index=False)\n",
    "ex3.to_csv(\"../data_files/ex3.csv\", index=False)"
   ]
  },
  {
   "cell_type": "markdown",
   "metadata": {},
   "source": [
    "### Experiment 1"
   ]
  },
  {
   "cell_type": "markdown",
   "metadata": {},
   "source": [
    "<a id='gl-ex1'></a>"
   ]
  },
  {
   "cell_type": "markdown",
   "metadata": {},
   "source": [
    "Plot showing mean gesture sequence length across generations in experiment 1."
   ]
  },
  {
   "cell_type": "code",
   "execution_count": null,
   "metadata": {},
   "outputs": [],
   "source": [
    "code_len_ex1_plot = sns.factorplot(x='generation', y='code_len', hue='chain',\n",
    "                                  ci=None, data=ex1,\n",
    "                                 size = 6, aspect = 1, legend=False,\n",
    "                                     markers=['o','^','s', '*', 'D'],)\n",
    "\n",
    "code_len_ex1_plot.set(xlabel= \"Generation\", ylabel = \"Mean gesture length\", xticklabels = [0,1,2,3,4,5],\n",
    "                     ylim=(0,4))\n"
   ]
  },
  {
   "cell_type": "markdown",
   "metadata": {},
   "source": [
    "The models below analyse the effect of generation on the length of gesture sequences. Firstly, we run a generalised mixed effects model with a poisson distribution (for count data). \n",
    "\n",
    "**Outcome variable:**\n",
    " * gesture sequence length\n",
    " \n",
    "**Fixed effects:**\n",
    " * generation\n",
    " \n",
    "**Random effects:**\n",
    " * chain (random intercept, random slope of generation)\n",
    " * participant (random intercept, nested in chains)\n",
    " * target meaning"
   ]
  },
  {
   "cell_type": "code",
   "execution_count": null,
   "metadata": {},
   "outputs": [],
   "source": [
    "%R -i ex1"
   ]
  },
  {
   "cell_type": "code",
   "execution_count": null,
   "metadata": {},
   "outputs": [],
   "source": [
    "%%R\n",
    "\n",
    "# run glm poisson model for gesture length\n",
    "\n",
    "len_model_ex1 = glmer(code_len ~ generation +\n",
    "                            (1+ generation|chain) + (1|participant:chain)+\n",
    "                            (1|target), data=ex1, family='poisson',\n",
    "                             control=glmerControl(optimizer='bobyqa'))\n"
   ]
  },
  {
   "cell_type": "code",
   "execution_count": null,
   "metadata": {},
   "outputs": [],
   "source": [
    "len_model_ex1 = %R capture.output(summary(len_model_ex1))\n",
    "\n",
    "print_output(len_model_ex1)"
   ]
  },
  {
   "cell_type": "markdown",
   "metadata": {},
   "source": [
    "The model demonstrates a significant effect of generation on gesture sequence length. Here, gesture sequences become shorter over generations."
   ]
  },
  {
   "cell_type": "code",
   "execution_count": null,
   "metadata": {},
   "outputs": [],
   "source": [
    "%%R \n",
    "\n",
    "# remove seed generation (test 1 - 5)\n",
    "ex1_from0 = subset(ex1, generation!=0)\n",
    "\n",
    "# reset generations to 0\n",
    "ex1_from0$generation = ex1_from0$generation - 1"
   ]
  },
  {
   "cell_type": "code",
   "execution_count": null,
   "metadata": {},
   "outputs": [],
   "source": [
    "%%R\n",
    "\n",
    "# gesture length model without seed generation\n",
    "\n",
    "len_model_ex1_from0 = glmer(code_len ~ generation +\n",
    "                            (1+ generation|chain) + (1|participant:chain)+\n",
    "                            (1|target), data=ex1_from0, family='poisson',\n",
    "                             control=glmerControl(optimizer='bobyqa'))\n"
   ]
  },
  {
   "cell_type": "code",
   "execution_count": null,
   "metadata": {},
   "outputs": [],
   "source": [
    "len_model_ex1_from0 = %R capture.output(summary(len_model_ex1_from0))\n",
    "\n",
    "print_output(len_model_ex1_from0)"
   ]
  },
  {
   "cell_type": "markdown",
   "metadata": {},
   "source": [
    "### Experiment 2"
   ]
  },
  {
   "cell_type": "markdown",
   "metadata": {},
   "source": [
    "<a id='gl-ex2'></a>"
   ]
  },
  {
   "cell_type": "markdown",
   "metadata": {},
   "source": [
    "Plot showing the mean length of gesture sequences over generations/rounds for each chain/pair in each condition of experiment 2."
   ]
  },
  {
   "cell_type": "code",
   "execution_count": null,
   "metadata": {},
   "outputs": [],
   "source": [
    "code_len_ex2_plot = sns.factorplot(x='generation', y='code_len', hue='chain',\n",
    "                                  ci=None, data=ex2, col='condition',\n",
    "                                 size = 5, aspect = 0.8, legend=False,\n",
    "                                     markers=['o','^','s', '*', 'D'],\n",
    "                                      sharey=False,\n",
    "                                     col_order = [\"Transmission + Interaction\",\n",
    "                                                 \"Interaction only\", \"Transmission only\"])\n",
    "\n",
    "code_len_ex2_plot.set(xlabel= \"Generation\", ylabel = \"\", xticklabels = [0,1,2,3,4,5],\n",
    "                     ylim=(0,11))\n",
    "\n",
    "code_len_ex2_plot.set_titles('{col_name}')\n",
    "\n",
    "plt.legend(title='Chain', bbox_to_anchor=(1,1))\n",
    "\n",
    "plt.text(-16, 8, 'Mean gesture length', rotation=90)"
   ]
  },
  {
   "cell_type": "markdown",
   "metadata": {},
   "source": [
    "The models below analyse the effect of generation and condition on the length of gesture sequences. Firstly, we run a generalised mixed effects model with a poisson distribution (for count data). \n",
    "\n",
    "**Outcome variable:**\n",
    " * gesture sequence length\n",
    " \n",
    "**Fixed effects:**\n",
    " * generation\n",
    " * condition\n",
    " * generation * condition\n",
    " \n",
    "**Random effects:**\n",
    " * chain (random intercept, random slope of generation)\n",
    " * participant (random intercept, nested in chains)\n",
    " * target meaning"
   ]
  },
  {
   "cell_type": "code",
   "execution_count": null,
   "metadata": {},
   "outputs": [],
   "source": [
    "%R -i ex2"
   ]
  },
  {
   "cell_type": "code",
   "execution_count": null,
   "metadata": {},
   "outputs": [],
   "source": [
    "%%R \n",
    "\n",
    "# set transmission + interaction as baseline condition\n",
    "ex2$condition = relevel(ex2$condition, \"Transmission + Interaction\")"
   ]
  },
  {
   "cell_type": "code",
   "execution_count": null,
   "metadata": {},
   "outputs": [],
   "source": [
    "%%R\n",
    "\n",
    "# run poisson model for gesture length\n",
    "len_model_ex2 = glmer(code_len ~ generation * condition +\n",
    "                            (1+generation|chain) + (1|participant:chain)+\n",
    "                            (1|target), data=ex2, family='poisson',\n",
    "                             control=glmerControl(optimizer='bobyqa'))"
   ]
  },
  {
   "cell_type": "code",
   "execution_count": null,
   "metadata": {},
   "outputs": [],
   "source": [
    "len_model_ex2 = %R capture.output(summary(len_model_ex2))\n",
    "\n",
    "print_output(len_model_ex2)"
   ]
  },
  {
   "cell_type": "markdown",
   "metadata": {},
   "source": [
    "The model here shows a significant effect of generation for the baseline condition (ex1), and significant interactions between generation and the two other conditions. Gestures in the interaction-only condition show a further reduction in length, while gestures in the transmission-only condition show an increase in length."
   ]
  },
  {
   "cell_type": "code",
   "execution_count": null,
   "metadata": {},
   "outputs": [],
   "source": [
    "%%R\n",
    "\n",
    "# remove seed generation (test 1 - 5)\n",
    "ex2_from0 = subset(ex2, generation!=0)\n",
    "\n",
    "# reset generations to 0\n",
    "ex2_from0$generation = ex2_from0$generation - 1"
   ]
  },
  {
   "cell_type": "code",
   "execution_count": null,
   "metadata": {},
   "outputs": [],
   "source": [
    "%%R\n",
    "\n",
    "# gesture length model without seed generation\n",
    "len_model_ex2_from0 = glmer(code_len ~ generation * condition +\n",
    "                            (1+generation|chain) + (1|participant:chain)+\n",
    "                            (1|target), data=ex2_from0, family='poisson',\n",
    "                             control=glmerControl(optimizer='bobyqa'))"
   ]
  },
  {
   "cell_type": "code",
   "execution_count": null,
   "metadata": {},
   "outputs": [],
   "source": [
    "len_model_ex2_from0 = %R capture.output(summary(len_model_ex2_from0))\n",
    "\n",
    "print_output(len_model_ex2_from0)"
   ]
  },
  {
   "cell_type": "markdown",
   "metadata": {},
   "source": [
    "### Experiment 3"
   ]
  },
  {
   "cell_type": "markdown",
   "metadata": {},
   "source": [
    "<a id='gl-ex3'></a>"
   ]
  },
  {
   "cell_type": "markdown",
   "metadata": {},
   "source": [
    "Plot showing the mean length of gesture sequences over generations/rounds for each chain/pair in each condition of experiment 3."
   ]
  },
  {
   "cell_type": "code",
   "execution_count": null,
   "metadata": {},
   "outputs": [],
   "source": [
    "code_len_ex3_plot = sns.factorplot(x='generation', y='code_len', hue='chain',\n",
    "                                  ci=None, data=ex3, col='condition',\n",
    "                                 size = 5, aspect = 0.8, legend=False,\n",
    "                                     markers=['o','^','s', '*', 'D'],\n",
    "                                      sharey=False,\n",
    "                                     col_order = [\"Transmission + Interaction\",\n",
    "                                                 \"Interaction only\", \"Transmission only\"])\n",
    "\n",
    "code_len_ex3_plot.set(xlabel= \"Generation\", ylabel = \"\", xticklabels=[0,1,2,3,4,5],\n",
    "                     ylim=(0,11))\n",
    "\n",
    "code_len_ex3_plot.set_titles('{col_name}')\n",
    "\n",
    "plt.legend(title='Chain', bbox_to_anchor=(1,1))\n",
    "\n",
    "plt.text(-16, 8, 'Mean gesture length', rotation=90)"
   ]
  },
  {
   "cell_type": "markdown",
   "metadata": {},
   "source": [
    "The models below analyse the effect of generation and condition on the length of gesture sequences. Firstly, we run a generalised mixed effects model with a poisson distribution (for count data). \n",
    "\n",
    "The model structure here is the same as experiment 2.\n",
    "\n",
    "**Outcome variable:**\n",
    " * gesture sequence length\n",
    " \n",
    "**Fixed effects:**\n",
    " * generation\n",
    " * condition\n",
    " * generation * condition\n",
    " \n",
    "**Random effects:**\n",
    " * chain (random intercept, random slope of generation)\n",
    " * participant (random intercept, nested in chains)\n",
    " * target meaning"
   ]
  },
  {
   "cell_type": "code",
   "execution_count": null,
   "metadata": {},
   "outputs": [],
   "source": [
    "%R -i ex3"
   ]
  },
  {
   "cell_type": "code",
   "execution_count": null,
   "metadata": {},
   "outputs": [],
   "source": [
    "%%R\n",
    "\n",
    "# set transmission + interaction condition as baseline condition\n",
    "ex3$condition = relevel(ex3$condition, 'Transmission + Interaction')"
   ]
  },
  {
   "cell_type": "code",
   "execution_count": null,
   "metadata": {},
   "outputs": [],
   "source": [
    "%%R\n",
    "\n",
    "# run poisson model for gesture length\n",
    "\n",
    "len_model_ex3 = glmer(code_len ~ generation * condition +\n",
    "                            (1+generation|chain) + (1|participant)+\n",
    "                            (1|target), data=ex3, family='poisson',\n",
    "                             control=glmerControl(optimizer='bobyqa'))\n",
    "\n"
   ]
  },
  {
   "cell_type": "code",
   "execution_count": null,
   "metadata": {},
   "outputs": [],
   "source": [
    "len_model_ex3 = %R capture.output(summary(len_model_ex3))\n",
    "\n",
    "print_output(len_model_ex3)"
   ]
  },
  {
   "cell_type": "code",
   "execution_count": null,
   "metadata": {},
   "outputs": [],
   "source": [
    "%%R\n",
    "\n",
    "# subset generations 1-5\n",
    "ex3_from0 = subset(ex3, generation!=0)\n",
    "\n",
    "# reset generations to 0\n",
    "ex3_from0$generation = ex3_from0$generation - 1"
   ]
  },
  {
   "cell_type": "code",
   "execution_count": null,
   "metadata": {},
   "outputs": [],
   "source": [
    "%%R\n",
    "\n",
    "# run gesture length model without seed generation\n",
    "\n",
    "len_model_ex3_from0 = glmer(code_len ~ generation * condition +\n",
    "                            (1+generation|chain) + (1|participant)+\n",
    "                            (1|target), data=ex3_from0, family='poisson',\n",
    "                             control=glmerControl(optimizer='bobyqa'))\n"
   ]
  },
  {
   "cell_type": "code",
   "execution_count": null,
   "metadata": {},
   "outputs": [],
   "source": [
    "len_model_ex3_from0 = %R capture.output({summary(len_model_ex3_from0)})\n",
    "\n",
    "print_output(len_model_ex3_from0)"
   ]
  },
  {
   "cell_type": "markdown",
   "metadata": {},
   "source": [
    "## 2. Frequency of repetitions"
   ]
  },
  {
   "cell_type": "markdown",
   "metadata": {},
   "source": [
    "<a id='reps'></a>"
   ]
  },
  {
   "cell_type": "code",
   "execution_count": null,
   "metadata": {},
   "outputs": [],
   "source": [
    "# quantify repetitions\n",
    "for ex in [ex1, ex2, ex3]:\n",
    "    \n",
    "    remove_rep_tag(ex)\n",
    "    count_repeats_df(ex)\n"
   ]
  },
  {
   "cell_type": "markdown",
   "metadata": {},
   "source": [
    "### Experiment 1"
   ]
  },
  {
   "cell_type": "markdown",
   "metadata": {},
   "source": [
    "<a id='r-ex1'></a>"
   ]
  },
  {
   "cell_type": "markdown",
   "metadata": {},
   "source": [
    "Plot showing frequency of repetitions over generations for each chain in experiment 1."
   ]
  },
  {
   "cell_type": "code",
   "execution_count": null,
   "metadata": {},
   "outputs": [],
   "source": [
    "reps_ex1_plot = sns.factorplot(x='generation', y='num_reps', hue='chain',\n",
    "                                  ci=None, data=ex1,\n",
    "                                 size = 6, aspect = 1, legend=False,\n",
    "                                     markers=['o','^','s', '*', 'D'],\n",
    "                                     )\n",
    "\n",
    "reps_ex1_plot.set(xlabel= \"Generation\", ylabel = \"Mean repetition frequency\", xticklabels = [0,1,2,3,4,5],\n",
    "                 ylim=(0,1.4))"
   ]
  },
  {
   "cell_type": "code",
   "execution_count": null,
   "metadata": {},
   "outputs": [],
   "source": [
    "%R -i ex1"
   ]
  },
  {
   "cell_type": "code",
   "execution_count": null,
   "metadata": {},
   "outputs": [],
   "source": [
    "%%R\n",
    "\n",
    "# run poisson repetition model\n",
    "\n",
    "reps_model_ex1 = glmer(num_reps ~ generation +\n",
    "                            (1+ generation|chain) + (1|participant:chain)+\n",
    "                            (1|target), data=ex1, family='poisson',\n",
    "                             control=glmerControl(optimizer='bobyqa'))\n"
   ]
  },
  {
   "cell_type": "code",
   "execution_count": null,
   "metadata": {},
   "outputs": [],
   "source": [
    "reps_ex1 = %R capture.output(summary(reps_model_ex1))\n",
    "\n",
    "print_output(reps_ex1)"
   ]
  },
  {
   "cell_type": "markdown",
   "metadata": {},
   "source": [
    "### Experiment 2"
   ]
  },
  {
   "cell_type": "markdown",
   "metadata": {},
   "source": [
    "<a id='r-ex2'></a>"
   ]
  },
  {
   "cell_type": "markdown",
   "metadata": {},
   "source": [
    "Plots showing the frequency of repetitions for each generation/round in each chain/pair across conditions in experiment 2."
   ]
  },
  {
   "cell_type": "code",
   "execution_count": null,
   "metadata": {},
   "outputs": [],
   "source": [
    "reps_ex2_plot = sns.factorplot(x='generation', y='num_reps', hue='chain',\n",
    "                                  ci=None, data=ex2, col='condition',\n",
    "                                 size = 5, aspect = 0.8, legend=False,\n",
    "                                     markers=['o','^','s', '*', 'D'],\n",
    "                                      sharey=False,\n",
    "                                     col_order = [\"Transmission + Interaction\",\n",
    "                                                 \"Interaction only\", \"Transmission only\"])\n",
    "\n",
    "reps_ex2_plot.set(xlabel= \"Generation\", ylabel = \"\", xticklabels = [0,1,2,3,4,5],\n",
    "                 ylim=(0,5))\n",
    "\n",
    "reps_ex2_plot.set_titles('{col_name}')\n",
    "\n",
    "plt.legend(title='Chain', bbox_to_anchor=(1,1))\n",
    "\n",
    "plt.text(-16, 4, 'Mean repetition frequency', rotation=90)"
   ]
  },
  {
   "cell_type": "markdown",
   "metadata": {},
   "source": [
    "The models below analyse the effect of generation and condition on repetition frequency. We run a generalised mixed effects model with a poisson distribution (for count data). \n",
    "\n",
    "**Outcome variable:**\n",
    " * frequency of repetitions\n",
    " \n",
    "**Fixed effects:**\n",
    " * generation\n",
    " * condition\n",
    " * generation * condition\n",
    " \n",
    "**Random effects:**\n",
    " * chain (random intercept, random slope of generation)\n",
    " * participant (random intercept, nested in chains)\n",
    " * target meaning"
   ]
  },
  {
   "cell_type": "code",
   "execution_count": null,
   "metadata": {},
   "outputs": [],
   "source": [
    "ex2.info()"
   ]
  },
  {
   "cell_type": "code",
   "execution_count": null,
   "metadata": {},
   "outputs": [],
   "source": [
    "%R -i ex2"
   ]
  },
  {
   "cell_type": "code",
   "execution_count": null,
   "metadata": {},
   "outputs": [],
   "source": [
    "%%R \n",
    "\n",
    "# set transmission + interaction as baseline condition\n",
    "\n",
    "ex2$condition = relevel(ex2$condition, 'Transmission + Interaction')"
   ]
  },
  {
   "cell_type": "code",
   "execution_count": null,
   "metadata": {},
   "outputs": [],
   "source": [
    "%%R\n",
    "\n",
    "# run repetition model for ex2\n",
    "\n",
    "reps_model_ex2 = glmer(num_reps ~ generation * condition +\n",
    "                            (1+generation|chain) + (1|participant:chain)+\n",
    "                            (1|target), data=ex2, family = 'poisson',\n",
    "                               control=glmerControl(optimizer='bobyqa'))\n",
    "\n"
   ]
  },
  {
   "cell_type": "code",
   "execution_count": null,
   "metadata": {},
   "outputs": [],
   "source": [
    "reps_model_ex2 = %R capture.output(summary(reps_model_ex2))\n",
    "\n",
    "print_output(reps_model_ex2)"
   ]
  },
  {
   "cell_type": "markdown",
   "metadata": {},
   "source": [
    "We find no main effect of generation for the baseline condition, but we do find significant interactions with both other conditions. Gestures in the interaction-only condition show reduction in the number of repetitions over generations, compared to the baseline. Gestures in the transmission-only condition show an increase in repetitions over generations, relative to the baseline condition."
   ]
  },
  {
   "cell_type": "markdown",
   "metadata": {},
   "source": [
    "### Experiment 3"
   ]
  },
  {
   "cell_type": "markdown",
   "metadata": {},
   "source": [
    "<a id='r-ex3'></a>"
   ]
  },
  {
   "cell_type": "markdown",
   "metadata": {},
   "source": [
    "Plots showing the frequency of repetitions for each generation/round in each chain/pair across conditions in experiment 3."
   ]
  },
  {
   "cell_type": "code",
   "execution_count": null,
   "metadata": {},
   "outputs": [],
   "source": [
    "reps_ex3_plot = sns.factorplot(x='generation', y='num_reps', hue='chain',\n",
    "                                  ci=None, data=ex3, col='condition',\n",
    "                                 size = 5, aspect = 0.8, legend=False,\n",
    "                                     markers=['o','^','s', '*', 'D'],\n",
    "                                      sharey=False,\n",
    "                                     col_order = [\"Transmission + Interaction\",\n",
    "                                                 \"Interaction only\", \"Transmission only\"])\n",
    "\n",
    "reps_ex3_plot.set(xlabel= \"Generation\", ylabel = \"\", xticklabels = [0,1,2,3,4,5],\n",
    "                 ylim=(0,5))\n",
    "\n",
    "reps_ex3_plot.set_titles('{col_name}')\n",
    "\n",
    "axs = reps_ex3_plot.axes\n",
    "\n",
    "plt.legend(title='Chain', bbox_to_anchor=(1,1))\n",
    "\n",
    "plt.text(-16, 4, 'Mean repetition frequency', rotation=90)"
   ]
  },
  {
   "cell_type": "markdown",
   "metadata": {},
   "source": [
    "The models below analyse the effect of generation and condition on repetition frequency. We run a generalised mixed effects model with a poisson distribution (for count data). \n",
    "\n",
    "The model structure here is the same as experiment 2.\n",
    "\n",
    "**Outcome variable:**\n",
    " * frequency of repetitions\n",
    " \n",
    "**Fixed effects:**\n",
    " * generation\n",
    " * condition\n",
    " * generation * condition\n",
    " \n",
    "**Random effects:**\n",
    " * chain (random intercept, random slope of generation)\n",
    " * participant (random intercept, nested in chains)\n",
    " * target meaning"
   ]
  },
  {
   "cell_type": "code",
   "execution_count": null,
   "metadata": {},
   "outputs": [],
   "source": [
    "%R -i ex3"
   ]
  },
  {
   "cell_type": "code",
   "execution_count": null,
   "metadata": {},
   "outputs": [],
   "source": [
    "%%R \n",
    "\n",
    "# set transmission + interaction as baseline condition\n",
    "\n",
    "ex3$condition = relevel(ex3$condition, 'Transmission + Interaction')"
   ]
  },
  {
   "cell_type": "code",
   "execution_count": null,
   "metadata": {},
   "outputs": [],
   "source": [
    "%%R\n",
    "\n",
    "# run repetition model for ex3\n",
    "\n",
    "reps_model_ex3 = glmer(num_reps ~ generation * condition +\n",
    "                            (1+generation|chain) + (1|participant:chain)+\n",
    "                            (1|target), data=ex3, family='poisson',\n",
    "                             control=glmerControl(optimizer='bobyqa'))\n"
   ]
  },
  {
   "cell_type": "code",
   "execution_count": null,
   "metadata": {},
   "outputs": [],
   "source": [
    "reps_model_ex3 = %R capture.output(summary(reps_model_ex3))\n",
    "\n",
    "print_output(reps_model_ex3)"
   ]
  },
  {
   "cell_type": "markdown",
   "metadata": {},
   "source": [
    "The model here demonstrates an effect of generation for the baseline condition: repetitions increase over generations. We also find significant interactions between generation and condition for both other conditions. In the interaction-only condition, gestures reduce over generations compared with the baseline. In the transmission-only condition, they increase."
   ]
  }
 ],
 "metadata": {
  "kernelspec": {
   "display_name": "Python 2",
   "language": "python",
   "name": "python2"
  },
  "language_info": {
   "codemirror_mode": {
    "name": "ipython",
    "version": 2
   },
   "file_extension": ".py",
   "mimetype": "text/x-python",
   "name": "python",
   "nbconvert_exporter": "python",
   "pygments_lexer": "ipython2",
   "version": "2.7.13"
  }
 },
 "nbformat": 4,
 "nbformat_minor": 2
}
