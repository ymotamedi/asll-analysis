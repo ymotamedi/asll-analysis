{
 "cells": [
  {
   "cell_type": "markdown",
   "metadata": {},
   "source": [
    "# Systematisation results"
   ]
  },
  {
   "cell_type": "code",
   "execution_count": 20,
   "metadata": {
    "collapsed": true
   },
   "outputs": [
    {
     "name": "stdout",
     "output_type": "stream",
     "text": [
      "The rpy2.ipython extension is already loaded. To reload it, use:\n",
      "  %reload_ext rpy2.ipython\n"
     ]
    }
   ],
   "source": [
    "import pandas as pd\n",
    "import numpy as np\n",
    "from math import log\n",
    "\n",
    "import re\n",
    "\n",
    "import matplotlib.pyplot as plt\n",
    "import seaborn as sns\n",
    "\n",
    "% load_ext rpy2.ipython\n",
    "% matplotlib inline"
   ]
  },
  {
   "cell_type": "code",
   "execution_count": 21,
   "metadata": {
    "collapsed": true
   },
   "outputs": [],
   "source": [
    "## set attributes for plots\n",
    "\n",
    "# set colours\n",
    "cat_colours = sns.xkcd_palette([\"cerulean\", \"goldenrod\", \"red\", \"grass green\"])\n",
    "chain_colours = sns.color_palette('hls')\n",
    "\n",
    "# set font\n",
    "sns.set(font_scale=1.3)\n",
    "\n",
    "# set linewidth\n",
    "sns.set_context(rc={\"lines.linewidth\":1.2})\n",
    "\n"
   ]
  },
  {
   "cell_type": "code",
   "execution_count": 22,
   "metadata": {
    "collapsed": true
   },
   "outputs": [],
   "source": [
    "%%R \n",
    "\n",
    "# libraries for running mixed effects models and printing p values\n",
    "library(\"lme4\")\n",
    "library(\"lmerTest\")\n"
   ]
  },
  {
   "cell_type": "code",
   "execution_count": 23,
   "metadata": {
    "collapsed": true
   },
   "outputs": [],
   "source": [
    "# function to make printing from R output faster\n",
    "\n",
    "def print_output(output):\n",
    "    \n",
    "    \"\"\"\n",
    "    For output transferred from R to python,\n",
    "    print the output.\n",
    "    \n",
    "    \"\"\"\n",
    "    \n",
    "    for line in output:\n",
    "        \n",
    "        print line"
   ]
  },
  {
   "cell_type": "code",
   "execution_count": 24,
   "metadata": {
    "collapsed": true
   },
   "outputs": [],
   "source": [
    "# read in data files \n",
    "ex1 = pd.read_csv(\"../data_files/ex1.csv\")\n",
    "ex2 = pd.read_csv(\"../data_files/ex2.csv\")\n",
    "ex3 = pd.read_csv(\"../data_files/ex3.csv\")"
   ]
  },
  {
   "cell_type": "code",
   "execution_count": 25,
   "metadata": {
    "collapsed": true
   },
   "outputs": [],
   "source": [
    "# replace binary string values with 1, 0\n",
    "\n",
    "bin_dict={'y': 1, 'n': 0}\n",
    "\n",
    "ex1['markerPres'] = ex1['markerPres'].replace(bin_dict)\n",
    "ex2['markerPres'] = ex2['markerPres'].replace(bin_dict)\n",
    "ex3['markerPres'] = ex3['markerPres'].replace(bin_dict)"
   ]
  },
  {
   "cell_type": "code",
   "execution_count": 26,
   "metadata": {
    "collapsed": true
   },
   "outputs": [],
   "source": [
    "# order in which to present conditions\n",
    "\n",
    "cols_order = ['Transmission + Interaction', 'Interaction only', 'Transmission only']"
   ]
  },
  {
   "cell_type": "markdown",
   "metadata": {},
   "source": [
    "## Contents\n",
    "\n",
    "1. <a href='#marking'>Presence of functional marking</a>\n",
    " * <a href='#m-ex1'>Experiment 1</a>\n",
    " * <a href='#m-ex2'>Experiment 2</a>\n",
    " * <a href='#m-ex3'>Experiment 3</a>\n",
    "2. <a href='#ent'>Entropy</a>\n",
    " * <a href='#ent-func'>Functions to calculate entropy</a>\n",
    " * <a href='#ent-ex1'>Experiment 1</a>\n",
    " * <a href='#ent-ex2'>Experiment 2</a>\n",
    " * <a href='#ent-ex3'>Experiment 3</a>"
   ]
  },
  {
   "cell_type": "markdown",
   "metadata": {},
   "source": [
    "<a id='marking'></a>"
   ]
  },
  {
   "cell_type": "markdown",
   "metadata": {},
   "source": [
    "## 1. Presence of functional marking"
   ]
  },
  {
   "cell_type": "markdown",
   "metadata": {},
   "source": [
    "Functional marking is defined as any marker meaningful to the whole category (person, location, object, action), and not to a particular item. Here we measure the proportion of functional markers across categories in the meaning space, at each generation/round for each chain/pair."
   ]
  },
  {
   "cell_type": "markdown",
   "metadata": {},
   "source": [
    "<a id='m-ex1'></a>"
   ]
  },
  {
   "cell_type": "markdown",
   "metadata": {},
   "source": [
    "### Experiment 1"
   ]
  },
  {
   "cell_type": "markdown",
   "metadata": {},
   "source": [
    "Plot showing mean proportion of marked gestures over generations, by category."
   ]
  },
  {
   "cell_type": "code",
   "execution_count": 27,
   "metadata": {},
   "outputs": [
    {
     "data": {
      "text/plain": [
       "<matplotlib.legend.Legend at 0xc03cc18>"
      ]
     },
     "execution_count": 27,
     "metadata": {},
     "output_type": "execute_result"
    },
    {
     "data": {
      "image/png": "[encoded data removed]",
      "text/plain": [
       "<matplotlib.figure.Figure at 0x6323e80>"
      ]
     },
     "metadata": {},
     "output_type": "display_data"
    }
   ],
   "source": [
    "mPres_ex1 = sns.factorplot(x='generation', y='markerPres', hue='ent_type', data=ex1,\n",
    "                          legend=False, kind='bar', size=6, aspect=1, palette=cat_colours,\n",
    "                          hue_order=['person', 'loc', 'obj', 'act'])\n",
    "\n",
    "mPres_ex1.set(ylim=(0,1), xlabel='Generation', ylabel = 'Mean proportion of marked gestures')\n",
    "\n",
    "plt.legend(title='Category', bbox_to_anchor=(1,1))"
   ]
  },
  {
   "cell_type": "markdown",
   "metadata": {},
   "source": [
    "Model testing the effect of generation and word category (verb or not-verb) on the presence of functional markers.\n",
    "\n",
    "**Output variable:**\n",
    " * marker presence\n",
    "\n",
    "**Fixed effects:**\n",
    " * generation\n",
    " * verb (y or n)\n",
    " * generation * verb\n",
    " \n",
    "**Random effects:**\n",
    "\n",
    " * chain (random intercept, random slope of generation)\n",
    " * participant (random intercept, nested within chains)\n",
    " * target (random intercept)"
   ]
  },
  {
   "cell_type": "code",
   "execution_count": 28,
   "metadata": {},
   "outputs": [],
   "source": [
    "%R -i ex1"
   ]
  },
  {
   "cell_type": "code",
   "execution_count": 29,
   "metadata": {
    "collapsed": true
   },
   "outputs": [],
   "source": [
    "%%R\n",
    "\n",
    "# make sure blank cells are read as NA\n",
    "ex1$markerPres[ex1$markerPres==\"\"]=NA\n",
    "\n",
    "# run model as logistic model with bobyqa as optimiser\n",
    "\n",
    "# full model with interaction term\n",
    "marking_model_ex1 = glmer(markerPres ~ generation *\n",
    "                               verb + \n",
    "                                 (1 + generation|chain) +\n",
    "                                 (1|participant:chain)+\n",
    "                                 (1|target), \n",
    "                                  ex1, family='binomial', \n",
    "                                  control=glmerControl(optimizer='bobyqa'))\n",
    "\n"
   ]
  },
  {
   "cell_type": "code",
   "execution_count": 30,
   "metadata": {},
   "outputs": [
    {
     "name": "stdout",
     "output_type": "stream",
     "text": [
      "Generalized linear mixed model fit by maximum likelihood (Laplace\n",
      "  Approximation) [glmerMod]\n",
      " Family: binomial  ( logit )\n",
      "Formula: markerPres ~ generation * verb + (1 + generation | chain) + (1 |  \n",
      "    participant:chain) + (1 | target)\n",
      "   Data: ex1\n",
      "Control: glmerControl(optimizer = \"bobyqa\")\n",
      "\n",
      "     AIC      BIC   logLik deviance df.resid \n",
      "  1123.5   1170.1   -552.7   1105.5     1305 \n",
      "\n",
      "Scaled residuals: \n",
      "    Min      1Q  Median      3Q     Max \n",
      "-4.4291 -0.4222 -0.1098  0.4411  6.4398 \n",
      "\n",
      "Random effects:\n",
      " Groups            Name        Variance Std.Dev. Corr \n",
      " participant:chain (Intercept) 0.07054  0.2656        \n",
      " target            (Intercept) 1.70745  1.3067        \n",
      " chain             (Intercept) 0.25554  0.5055        \n",
      "                   generation  0.03679  0.1918   -0.32\n",
      "Number of obs: 1314, groups:  participant:chain, 170; target, 24; chain, 5\n",
      "\n",
      "Fixed effects:\n",
      "                 Estimate Std. Error z value Pr(>|z|)    \n",
      "(Intercept)       -1.2793     0.4287  -2.984  0.00284 ** \n",
      "generation         0.7111     0.1097   6.480 9.16e-11 ***\n",
      "verbY             -3.5061     0.9208  -3.808  0.00014 ***\n",
      "generation:verbY  -0.1945     0.1809  -1.075  0.28230    \n",
      "---\n",
      "Signif. codes:  0 '***' 0.001 '**' 0.01 '*' 0.05 '.' 0.1 ' ' 1\n",
      "\n",
      "Correlation of Fixed Effects:\n",
      "            (Intr) genrtn verbY \n",
      "generation  -0.381              \n",
      "verbY       -0.306  0.077       \n",
      "genrtn:vrbY  0.124 -0.205 -0.671\n"
     ]
    }
   ],
   "source": [
    "# get model output\n",
    "ex1_mark_model_out = %R capture.output(summary(marking_model_ex1))\n",
    "\n",
    "print_output(ex1_mark_model_out)"
   ]
  },
  {
   "cell_type": "markdown",
   "metadata": {},
   "source": [
    "The model above demonstrates a significant effect of both generation (increase in marking over generations) and meaning category (verbs are less likely to be marked than non-verbs). We find no significant interaction between generation and word category."
   ]
  },
  {
   "cell_type": "markdown",
   "metadata": {},
   "source": [
    "<a id='m-ex2'></a>"
   ]
  },
  {
   "cell_type": "markdown",
   "metadata": {},
   "source": [
    "### Experiment 2"
   ]
  },
  {
   "cell_type": "markdown",
   "metadata": {},
   "source": [
    "Plots showing mean proportion of marked gestures over generations, by category for each condition described in experiment 2."
   ]
  },
  {
   "cell_type": "code",
   "execution_count": 31,
   "metadata": {},
   "outputs": [
    {
     "data": {
      "text/plain": [
       "<matplotlib.text.Text at 0xd66d5c0>"
      ]
     },
     "execution_count": 31,
     "metadata": {},
     "output_type": "execute_result"
    },
    {
     "data": {
      "image/png": "[encoded data removed]",
      "text/plain": [
       "<matplotlib.figure.Figure at 0xd017ef0>"
      ]
     },
     "metadata": {},
     "output_type": "display_data"
    }
   ],
   "source": [
    "# plot marker presence against generation, with target category as hue, and condition for each plot\n",
    "\n",
    "mPres_ex2_plot = sns.factorplot(x='generation', y='markerPres', hue='ent_type', data=ex2,\n",
    "                                col='condition', legend=False,\n",
    "              kind='bar', size = 5, aspect = 0.8, palette=cat_colours, hue_order =[\"person\", \"loc\", \"obj\", \"act\"],\n",
    "                                  col_order = cols_order)\n",
    "\n",
    "mPres_ex2_plot.set(ylim=(0,1), xlabel='Generation', ylabel = '')\n",
    "\n",
    "mPres_ex2_plot.set_titles('{col_name}' )\n",
    "\n",
    "plt.legend(title='Category', bbox_to_anchor=(1,1))\n",
    "\n",
    "plt.text(-14.5,0.9, \"Mean proportion of marked gestures\", rotation=90)"
   ]
  },
  {
   "cell_type": "markdown",
   "metadata": {},
   "source": [
    "Model testing the effect of condition, generation and word category (verb or not-verb) on the presence of functional markers.\n",
    "\n",
    "**Output variable:**\n",
    " * marker presence\n",
    "\n",
    "**Fixed effects:**\n",
    " * condition\n",
    " * generation\n",
    " * condition * generation\n",
    " \n",
    "**Random effects:**\n",
    "(same as above)\n",
    "\n",
    " * chain (random intercept, random slope of generation)\n",
    " * participant (random intercept, nested within chains)\n",
    " * target (random intercept)"
   ]
  },
  {
   "cell_type": "code",
   "execution_count": 32,
   "metadata": {},
   "outputs": [],
   "source": [
    "%R -i ex2"
   ]
  },
  {
   "cell_type": "code",
   "execution_count": 33,
   "metadata": {
    "collapsed": true
   },
   "outputs": [],
   "source": [
    "%%R\n",
    "\n",
    "# combined condition acts as baseline condition\n",
    "ex2$condition = relevel(ex2$condition, 'Transmission + Interaction')\n",
    "\n",
    "# make sure blank cells are read as NA\n",
    "ex2$markerPres[ex2$markerPres==\"\"]=NA"
   ]
  },
  {
   "cell_type": "code",
   "execution_count": 34,
   "metadata": {
    "collapsed": true
   },
   "outputs": [],
   "source": [
    "%%R\n",
    "\n",
    "# run model as logistic model with bobyqa as optimiser\n",
    "\n",
    "# full model with interaction term\n",
    "marking_model_ex2 = glmer(markerPres ~ generation * condition + \n",
    "                                 (1 + generation|chain) +\n",
    "                                 (1|participant:chain)+\n",
    "                                 (1|target), \n",
    "                                  ex2, family='binomial', \n",
    "                                  control=glmerControl(optimizer='bobyqa'))\n"
   ]
  },
  {
   "cell_type": "code",
   "execution_count": 35,
   "metadata": {},
   "outputs": [
    {
     "name": "stdout",
     "output_type": "stream",
     "text": [
      "Generalized linear mixed model fit by maximum likelihood (Laplace\n",
      "  Approximation) [glmerMod]\n",
      " Family: binomial  ( logit )\n",
      "Formula: markerPres ~ generation * condition + (1 + generation | chain) +  \n",
      "    (1 | participant:chain) + (1 | target)\n",
      "   Data: ex2\n",
      "Control: glmerControl(optimizer = \"bobyqa\")\n",
      "\n",
      "     AIC      BIC   logLik deviance df.resid \n",
      "  2691.3   2758.6  -1334.7   2669.3     3341 \n",
      "\n",
      "Scaled residuals: \n",
      "    Min      1Q  Median      3Q     Max \n",
      "-5.1509 -0.4075 -0.1127  0.4134 11.6606 \n",
      "\n",
      "Random effects:\n",
      " Groups            Name        Variance Std.Dev. Corr \n",
      " participant:chain (Intercept) 0.34555  0.5878        \n",
      " target            (Intercept) 5.30617  2.3035        \n",
      " chain             (Intercept) 0.08265  0.2875        \n",
      "                   generation  0.01428  0.1195   -0.30\n",
      "Number of obs: 3352, groups:  participant:chain, 282; target, 24; chain, 5\n",
      "\n",
      "Fixed effects:\n",
      "                                      Estimate Std. Error z value Pr(>|z|)    \n",
      "(Intercept)                           -2.51053    0.54040  -4.646 3.39e-06 ***\n",
      "generation                             0.75195    0.09064   8.296  < 2e-16 ***\n",
      "conditionInteraction only             -0.24124    0.27996  -0.862  0.38884    \n",
      "conditionTransmission only            -0.86163    0.32578  -2.645  0.00817 ** \n",
      "generation:conditionInteraction only  -0.53973    0.09253  -5.833 5.45e-09 ***\n",
      "generation:conditionTransmission only  0.13598    0.10860   1.252  0.21054    \n",
      "---\n",
      "Signif. codes:  0 '***' 0.001 '**' 0.01 '*' 0.05 '.' 0.1 ' ' 1\n",
      "\n",
      "Correlation of Fixed Effects:\n",
      "            (Intr) genrtn cndtIo cndtTo gnr:Io\n",
      "generation  -0.343                            \n",
      "cndtnIntrco -0.249  0.403                     \n",
      "cndtnTrnsmo -0.250  0.409  0.416              \n",
      "gnrtn:cndIo  0.309 -0.661 -0.607 -0.425       \n",
      "gnrtn:cndTo  0.214 -0.478 -0.342 -0.825  0.490\n"
     ]
    }
   ],
   "source": [
    "# print full model output\n",
    "\n",
    "ex2_mark_model_output = %R capture.output(summary(marking_model_ex2))\n",
    "\n",
    "print_output(ex2_mark_model_output)"
   ]
  },
  {
   "cell_type": "markdown",
   "metadata": {},
   "source": [
    "The model summary confirms what is shown in the plots. For the combined condition, there is a significant effect of generation, such that marking increases over generations. There is a significant main effect of condition for the individuals, such that individuals have fewer markers in generation 0, but crucially there is no interaction between generation and condition for the individuals - in both the combined condition and the individual condition, we see a cumulative increase in functional marking. There is, however, an interaction between generation and the dyadic condition, such that the marking the dyads does not increase to the extent that it does in the other two conditions."
   ]
  },
  {
   "cell_type": "markdown",
   "metadata": {},
   "source": [
    "<a id='m-ex3'></a>"
   ]
  },
  {
   "cell_type": "markdown",
   "metadata": {},
   "source": [
    "### Experiment 3"
   ]
  },
  {
   "cell_type": "markdown",
   "metadata": {},
   "source": [
    "Plots showing mean proportion of marked gestures over generations, by category for each condition described in experiment 3."
   ]
  },
  {
   "cell_type": "code",
   "execution_count": 36,
   "metadata": {},
   "outputs": [
    {
     "data": {
      "text/plain": [
       "<matplotlib.text.Text at 0x31ea5748>"
      ]
     },
     "execution_count": 36,
     "metadata": {},
     "output_type": "execute_result"
    },
    {
     "data": {
      "image/png": "[encoded data removed]",
      "text/plain": [
       "<matplotlib.figure.Figure at 0xd9a2588>"
      ]
     },
     "metadata": {},
     "output_type": "display_data"
    }
   ],
   "source": [
    "# plot marker presence by condition, generation, category\n",
    "\n",
    "mPres_ex3_plot = sns.factorplot(x='generation', y='markerPres', hue='ent_type', data=ex3,\n",
    "                                col='condition', legend=False,\n",
    "              kind='bar', size = 5, aspect = 0.8, palette=cat_colours, hue_order =[\"person\", \"loc\", \"obj\", \"act\"],\n",
    "                                 col_order = cols_order)\n",
    "\n",
    "mPres_ex3_plot.set(ylim=(0,1), xlabel='Generation', ylabel = '')\n",
    "\n",
    "mPres_ex3_plot.set_titles('{col_name}' )\n",
    "\n",
    "plt.legend(title='Category', bbox_to_anchor=(1,1))\n",
    "\n",
    "plt.text(-14.5,0.9, \"Mean proportion of marked gestures\", rotation=90)"
   ]
  },
  {
   "cell_type": "markdown",
   "metadata": {},
   "source": [
    "Model testing the effect of condition, generation and word category (verb or not-verb) on the presence of functional markers.\n",
    "\n",
    "Model structure same as ex2.\n",
    "\n",
    "**Output variable:**\n",
    " * marker presence\n",
    "\n",
    "**Fixed effects:**\n",
    " * condition\n",
    " * generation\n",
    " * condition * generation\n",
    " \n",
    "**Random effects:**\n",
    "\n",
    " * chain (random intercept, random slope of generation)\n",
    " * participant (random intercept, nested within chains)\n",
    " * target (random intercept)"
   ]
  },
  {
   "cell_type": "markdown",
   "metadata": {},
   "source": [
    "The plot above shows the proportion of marking on the functional categories at each generation, for each condition in the rerun data. We see a very similar pattern to the original run data. In the conditions where transmission is present, we see a cumulative increase in the presence of functional markers over generations in all categories, except for verbs which largely remain unmarked. In the dyadic condition, marking stalls, with no category having more than half its items marked, suggesting a lack of widespread systematisation."
   ]
  },
  {
   "cell_type": "code",
   "execution_count": 37,
   "metadata": {
    "collapsed": true
   },
   "outputs": [],
   "source": [
    "%R -i ex3"
   ]
  },
  {
   "cell_type": "code",
   "execution_count": 38,
   "metadata": {
    "collapsed": true
   },
   "outputs": [],
   "source": [
    "%%R \n",
    "\n",
    "# combined condition as baseline level\n",
    "ex3$condition = relevel(ex3$condition, \"Transmission + Interaction\")\n",
    "\n",
    "# make sure blank cells are read as NA\n",
    "ex3$markerPres[ex3$markerPres==\"\"]=NA"
   ]
  },
  {
   "cell_type": "code",
   "execution_count": 39,
   "metadata": {
    "collapsed": true
   },
   "outputs": [],
   "source": [
    "%%R\n",
    "\n",
    "# run models as logistic models\n",
    "\n",
    "\n",
    "\n",
    "# full model with interaction term\n",
    "marking_model_ex3 = glmer(markerPres ~ generation * condition + \n",
    "                                 (1 + generation|chain) +\n",
    "                                 (1|participant:chain)+\n",
    "                                 (1|target), \n",
    "                                  ex3, family='binomial', \n",
    "                                  control=glmerControl(optimizer='bobyqa'))\n",
    "\n"
   ]
  },
  {
   "cell_type": "code",
   "execution_count": 40,
   "metadata": {},
   "outputs": [
    {
     "name": "stdout",
     "output_type": "stream",
     "text": [
      "Generalized linear mixed model fit by maximum likelihood (Laplace\n",
      "  Approximation) [glmerMod]\n",
      " Family: binomial  ( logit )\n",
      "Formula: markerPres ~ generation * condition + (1 + generation | chain) +  \n",
      "    (1 | participant:chain) + (1 | target)\n",
      "   Data: ex3\n",
      "Control: glmerControl(optimizer = \"bobyqa\")\n",
      "\n",
      "     AIC      BIC   logLik deviance df.resid \n",
      "  2624.8   2691.9  -1301.4   2602.8     3283 \n",
      "\n",
      "Scaled residuals: \n",
      "    Min      1Q  Median      3Q     Max \n",
      "-5.8721 -0.4116 -0.0855  0.4138 11.9531 \n",
      "\n",
      "Random effects:\n",
      " Groups            Name        Variance Std.Dev. Corr \n",
      " participant:chain (Intercept) 0.97694  0.9884        \n",
      " target            (Intercept) 7.08934  2.6626        \n",
      " chain             (Intercept) 0.07144  0.2673        \n",
      "                   generation  0.01113  0.1055   -1.00\n",
      "Number of obs: 3294, groups:  participant:chain, 264; target, 24; chain, 5\n",
      "\n",
      "Fixed effects:\n",
      "                                      Estimate Std. Error z value Pr(>|z|)    \n",
      "(Intercept)                           -3.22286    0.62953  -5.119 3.06e-07 ***\n",
      "generation                             0.80305    0.10347   7.761 8.41e-15 ***\n",
      "conditionInteraction only              0.25408    0.36241   0.701    0.483    \n",
      "conditionTransmission only            -0.42145    0.38933  -1.082    0.279    \n",
      "generation:conditionInteraction only  -0.65668    0.10695  -6.140 8.25e-10 ***\n",
      "generation:conditionTransmission only  0.09031    0.13667   0.661    0.509    \n",
      "---\n",
      "Signif. codes:  0 '***' 0.001 '**' 0.01 '*' 0.05 '.' 0.1 ' ' 1\n",
      "\n",
      "Correlation of Fixed Effects:\n",
      "            (Intr) genrtn cndtIo cndtTo gnr:Io\n",
      "generation  -0.429                            \n",
      "cndtnIntrco -0.297  0.493                     \n",
      "cndtnTrnsmo -0.288  0.479  0.478              \n",
      "gnrtn:cndIo  0.328 -0.761 -0.606 -0.464       \n",
      "gnrtn:cndTo  0.227 -0.549 -0.373 -0.780  0.532\n"
     ]
    }
   ],
   "source": [
    "# print full model output\n",
    "\n",
    "ex3_mark_model_output = %R capture.output(summary(marking_model_ex3))\n",
    "print_output(ex3_mark_model_output)"
   ]
  },
  {
   "cell_type": "markdown",
   "metadata": {},
   "source": [
    "Again, we see a very similar result to that for experiment 2.For the combined condition, there is a significant effect of generation, such that marking increases over generations. There is no interaction between generation and condition for the individuals - in both the combined condition and the individual condition, we see a cumulative increase in functional marking. There is, however, an interaction between generation and the dyadic condition, such that the marking the dyads does not increase to the extent that it does in the other two conditions."
   ]
  },
  {
   "cell_type": "markdown",
   "metadata": {},
   "source": [
    "<a id='ent'></a>"
   ]
  },
  {
   "cell_type": "markdown",
   "metadata": {},
   "source": [
    "## 2. Entropy of gesture shapes\n",
    "\n",
    "\n",
    "We use entropy as a measure of consistency of the handshapes participants use. For example, a system with high entropy would be one that uses lots of different handshapes infrequently (i.e. it uses specific handshapes for specific meanings). A system with low entropy would be one that uses a smaller pool of handshapes, but re-uses those handshapes across meanings.\n",
    "\n",
    "Entropy is given as:\n",
    "\n",
    "$H = -\\Sigma p(x) log_2 p(x)$\n",
    "\n",
    "Where entropy is summed over unique gestures in a participant's set of gestures."
   ]
  },
  {
   "cell_type": "markdown",
   "metadata": {},
   "source": [
    "<a id='ent-func'></a>"
   ]
  },
  {
   "cell_type": "markdown",
   "metadata": {},
   "source": [
    "### Functions to calculate entropy"
   ]
  },
  {
   "cell_type": "code",
   "execution_count": 41,
   "metadata": {
    "collapsed": true
   },
   "outputs": [],
   "source": [
    "# regex to pull individual gesture shapes out of code string\n",
    "\n",
    "reg = r'1h.*?\\b|2h.*?\\b'"
   ]
  },
  {
   "cell_type": "code",
   "execution_count": 42,
   "metadata": {
    "collapsed": true
   },
   "outputs": [],
   "source": [
    "#takes a list of gesture coding, and pulls out the shapes, giving a list of all instances of all shapes\n",
    "# and a set of the shapes used\n",
    "\n",
    "def shape_list(alist,reg):\n",
    "    \n",
    "    \"\"\"\n",
    "    \n",
    "    Takes a list of gesture coding and gives a list of each shape,\n",
    "    and the set of unique shapes.\n",
    "    \n",
    "    Takes as input a list of code and the regular expression that identifies gesture shapes.\n",
    "    \n",
    "    \"\"\"\n",
    "    \n",
    "    #join list of code\n",
    "    allcode=(',').join(alist)\n",
    "    \n",
    "    #search for gesture shapes (expressions starting with 1h or 2h)\n",
    "    regex=re.compile(reg)\n",
    "    setlist=re.findall(regex,allcode)\n",
    "    \n",
    "    #return the list of shapes and the set of different shapes\n",
    "    return setlist, set(setlist)"
   ]
  },
  {
   "cell_type": "code",
   "execution_count": 43,
   "metadata": {
    "collapsed": true
   },
   "outputs": [],
   "source": [
    "#for the shapes provided by the function above, this gets the probability\n",
    "# of a shape in the set occuring in the gestures\n",
    "#i.e. for shape i in the set, it counts the number of times i is used/total number of gestures\n",
    "\n",
    "def probabilities(shape_set):\n",
    "    \n",
    "    \"\"\"\n",
    "    For a given list/set of gesture shapes, finds the probability of each shape.\n",
    "    \n",
    "    i.e. the number of occurences of shape i/ the total number of gestures\n",
    "    \n",
    "    \"\"\"\n",
    "    \n",
    "    all_ps=[]\n",
    "    \n",
    "    # for each unique shape\n",
    "    for i in shape_set[1]:\n",
    "        \n",
    "        # count the number of occurrences\n",
    "        # divide by total number of shapes used\n",
    "        p=shape_set[0].count(i)/float(len(shape_set[0]))\n",
    "        all_ps.append(p)\n",
    "        \n",
    "    return all_ps"
   ]
  },
  {
   "cell_type": "code",
   "execution_count": 44,
   "metadata": {
    "collapsed": true
   },
   "outputs": [],
   "source": [
    "def entropy(shape_set):\n",
    "    \n",
    "    \"\"\"\n",
    "    Calculate the entropy for a given set of gestures.\n",
    "    \n",
    "    \"\"\"\n",
    "    \n",
    "    # get probabilities of shapes in the set\n",
    "    probs=probabilities(shape_set)\n",
    "    \n",
    "    # calculate entropy\n",
    "    entropy=0\n",
    "    \n",
    "    for p in probs:\n",
    "        entropy=entropy-(p*log(p))\n",
    "        \n",
    "    return entropy"
   ]
  },
  {
   "cell_type": "code",
   "execution_count": 45,
   "metadata": {
    "collapsed": true
   },
   "outputs": [],
   "source": [
    "def entropy_all(df,group,reg):\n",
    "    \n",
    "    \"\"\"\n",
    "    For a given condition in a data frame, calculates the entropy for all participants\n",
    "    in the condition.\n",
    "    \n",
    "    Each entropy calculation (i.e. for each participant) makes up a row of the returned data frame.\n",
    "    \n",
    "    \"\"\"\n",
    "    \n",
    "    # get data for that condition\n",
    "    ent_group = df[df['condition']==group]\n",
    "    \n",
    "    # create df to hold results\n",
    "    ent_df = pd.DataFrame(columns=['chain', 'generation', 'participant', \n",
    "                                   'condition','entropy'])\n",
    "    # for each chain, each gen\n",
    "    for c in [1,2,3,4,5]:\n",
    "        for g in [0,1,2,3,4,5]:\n",
    "            \n",
    "            # get data subset\n",
    "            subset_gen=ent_group[(ent_group['chain']=='chain' + str(c))&(ent_group['generation']==g)]\n",
    "            \n",
    "            # if generation is 0\n",
    "            if g!= 0:\n",
    "                \n",
    "                # get participant\n",
    "                subset_p = subset_gen.participant.unique()[0]\n",
    "                \n",
    "            else:\n",
    "                # else participant is seed\n",
    "                subset_p = 'seed' + str(c)\n",
    "                \n",
    "            # get list of code shapes\n",
    "            subset_shape_list =list(subset_gen['code_string'].dropna())\n",
    "            \n",
    "            # get it as a set of shapes\n",
    "            set_gen=shape_list(subset_shape_list,reg)\n",
    "            \n",
    "            # calculate entropy\n",
    "            ent=entropy(set_gen)\n",
    "            \n",
    "            # create df row dictionary, add to df\n",
    "            row_dict = {'chain': 'chain' + str(c), 'generation': g,\n",
    "                        'participant': subset_p, 'condition': group, 'entropy': ent}\n",
    "            \n",
    "            ent_df = ent_df.append(row_dict, ignore_index=True)\n",
    "    \n",
    "    # return df\n",
    "    return ent_df"
   ]
  },
  {
   "cell_type": "code",
   "execution_count": 46,
   "metadata": {
    "collapsed": true
   },
   "outputs": [],
   "source": [
    "#entropy function for dyadic conditions\n",
    "# gives entropy for 'A' and 'B', to average over later\n",
    "\n",
    "def av_entropy_all(df, group, reg):\n",
    "    \n",
    "    ent_group = df[df['condition']==group]\n",
    "    \n",
    "    ent_df = pd.DataFrame(columns=['chain', 'generation', 'participant', \n",
    "                                   'condition','entropy'])\n",
    "    \n",
    "    for c in [1,2,3,4,5]:\n",
    "        for g in [0,1,2,3,4,5]:\n",
    "            \n",
    "            cg_subset = ent_group[(ent_group['chain']=='chain' + str(c)) & \n",
    "                                      (ent_group['generation']==g)]\n",
    "            \n",
    "            if g!=0:\n",
    "                \n",
    "                cg_p = cg_subset.participant.unique()\n",
    "                \n",
    "                for p in cg_p:\n",
    "                    \n",
    "                    p_subset = cg_subset[cg_subset.participant==p]\n",
    "                    \n",
    "                    p_code = list(p_subset['code_string'].dropna())\n",
    "                    \n",
    "                    p_set = shape_list(p_code, reg)\n",
    "                    \n",
    "                    p_ent = entropy(p_set)\n",
    "                    \n",
    "                    row_dict = {'chain': 'chain' + str(c), 'generation': g,\n",
    "                               'participant': p, 'condition': group, 'entropy': p_ent}\n",
    "                    \n",
    "                    ent_df = ent_df.append(row_dict, ignore_index=True)\n",
    "\n",
    "                \n",
    "            else:\n",
    "                \n",
    "                seed_shapes = list(cg_subset['code_string'].dropna())\n",
    "                \n",
    "                seed_set = shape_list(seed_shapes, reg)\n",
    "                \n",
    "                entSeed = entropy(seed_set)\n",
    "                \n",
    "                row_dict = {'chain': 'chain' + str(c), 'generation': g,\n",
    "                               'participant': 'seed' + str(c), 'condition': group, 'entropy': entSeed}\n",
    "                \n",
    "                ent_df = ent_df.append(row_dict, ignore_index=True)\n",
    "                \n",
    "    return ent_df"
   ]
  },
  {
   "cell_type": "code",
   "execution_count": 47,
   "metadata": {},
   "outputs": [],
   "source": [
    "all_ent_ex1 = av_entropy_all(ex1, 'Transmission + Interaction', reg)\n",
    "all_ent_ex1.to_csv('../data_files/all_ent_ex1.csv', index=False)"
   ]
  },
  {
   "cell_type": "code",
   "execution_count": 48,
   "metadata": {
    "collapsed": true
   },
   "outputs": [],
   "source": [
    "# create data frame of entropy for each condition\n",
    "# ex2, ex1 \n",
    "\n",
    "pieces = []\n",
    "\n",
    "# for each condition\n",
    "for con in ex2.condition.unique():\n",
    "    \n",
    "    # calculate entropy\n",
    "    \n",
    "    if con == 'ind':\n",
    "        \n",
    "        ents = entropy_all(ex2, con, reg)\n",
    "        \n",
    "        pieces.append(ents)\n",
    "        \n",
    "    else:\n",
    "        \n",
    "        ents = av_entropy_all(ex2, con, reg)\n",
    "        \n",
    "        pieces.append(ents)\n",
    "\n",
    "# create df of all conditions\n",
    "all_ents_ex2 = pd.concat(pieces, ignore_index=True)"
   ]
  },
  {
   "cell_type": "code",
   "execution_count": 49,
   "metadata": {
    "collapsed": true
   },
   "outputs": [],
   "source": [
    "# having some problems with dfs generated in pandas called into \n",
    "\n",
    "all_ents_ex2.to_csv('../data_files/all_ents_ex2.csv', index=False)"
   ]
  },
  {
   "cell_type": "markdown",
   "metadata": {},
   "source": [
    "<a id='ent-ex1'></a>"
   ]
  },
  {
   "cell_type": "markdown",
   "metadata": {},
   "source": [
    "### Experiment 1 "
   ]
  },
  {
   "cell_type": "markdown",
   "metadata": {},
   "source": [
    "Plot showing the mean entropy at each generation of each chain in experiment 1."
   ]
  },
  {
   "cell_type": "code",
   "execution_count": 50,
   "metadata": {},
   "outputs": [
    {
     "data": {
      "image/png": "[encoded data removed]",
      "text/plain": [
       "<matplotlib.figure.Figure at 0x3222c908>"
      ]
     },
     "metadata": {},
     "output_type": "display_data"
    }
   ],
   "source": [
    "with sns.plotting_context({'lines.linewidth': 2}):\n",
    "    ent_ex1 = sns.factorplot(x='generation', y='entropy', hue='chain', data=all_ent_ex1, \n",
    "                                    size = 6, aspect =1, legend = False,\n",
    "                                    markers=['o','^','s', '*', 'D'])\n",
    "    \n",
    "    ent_ex1.set(ylim=(0,4), ylabel='Mean gesture shape entropy', xlabel = 'Generation')\n"
   ]
  },
  {
   "cell_type": "markdown",
   "metadata": {},
   "source": [
    "Linear mixed effects model testing the effect of generation on gesture shape entropy.\n",
    "\n",
    "N.B. we only get one value per participant, which is summed over gestures for all items. As such we do not include participant or target as random effects.\n",
    "\n",
    "**Output variable:**\n",
    " * entropy\n",
    "\n",
    "**Fixed effects:**\n",
    " * generation\n",
    " \n",
    "**Random effects:**\n",
    "\n",
    " * chain (random intercept, random slope of generation)"
   ]
  },
  {
   "cell_type": "code",
   "execution_count": 51,
   "metadata": {
    "collapsed": true
   },
   "outputs": [],
   "source": [
    "%%R\n",
    "\n",
    "ex1_ent = read.csv('../data_files/all_ent_ex1.csv')"
   ]
  },
  {
   "cell_type": "code",
   "execution_count": 52,
   "metadata": {
    "collapsed": true
   },
   "outputs": [],
   "source": [
    "%%R\n",
    "\n",
    "ent_model_ex1 = lmer(entropy ~ generation +\n",
    "                             (1 + generation|chain),\n",
    "                             data=ex1_ent,\n",
    "                             control=lmerControl(optimizer='bobyqa'))\n"
   ]
  },
  {
   "cell_type": "code",
   "execution_count": 53,
   "metadata": {},
   "outputs": [
    {
     "data": {
      "image/png": "[encoded data removed]"
     },
     "metadata": {},
     "output_type": "display_data"
    }
   ],
   "source": [
    "%R plot(fitted(ent_model_ex1), resid(ent_model_ex1))\n",
    "# plot residuals"
   ]
  },
  {
   "cell_type": "code",
   "execution_count": 54,
   "metadata": {},
   "outputs": [
    {
     "name": "stdout",
     "output_type": "stream",
     "text": [
      "Linear mixed model fit by REML. t-tests use Satterthwaite's method [\n",
      "lmerModLmerTest]\n",
      "Formula: entropy ~ generation + (1 + generation | chain)\n",
      "   Data: ex1_ent\n",
      "Control: lmerControl(optimizer = \"bobyqa\")\n",
      "\n",
      "REML criterion at convergence: -81.7\n",
      "\n",
      "Scaled residuals: \n",
      "     Min       1Q   Median       3Q      Max \n",
      "-2.19447 -0.65805  0.09662  0.72704  1.80936 \n",
      "\n",
      "Random effects:\n",
      " Groups   Name        Variance Std.Dev. Corr \n",
      " chain    (Intercept) 0.002705 0.05201       \n",
      "          generation  0.001202 0.03467  -0.81\n",
      " Residual             0.008664 0.09308       \n",
      "Number of obs: 55, groups:  chain, 5\n",
      "\n",
      "Fixed effects:\n",
      "            Estimate Std. Error       df t value Pr(>|t|)    \n",
      "(Intercept)  3.40263    0.03400  4.00000 100.087 5.98e-08 ***\n",
      "generation  -0.12333    0.01738  4.00000  -7.098  0.00208 ** \n",
      "---\n",
      "Signif. codes:  0 '***' 0.001 '**' 0.01 '*' 0.05 '.' 0.1 ' ' 1\n",
      "\n",
      "Correlation of Fixed Effects:\n",
      "           (Intr)\n",
      "generation -0.777\n"
     ]
    }
   ],
   "source": [
    "ent_ex1_model = %R capture.output(summary(ent_model_ex1))\n",
    "\n",
    "print_output(ent_ex1_model)"
   ]
  },
  {
   "cell_type": "markdown",
   "metadata": {},
   "source": [
    "The model above demonstrates a significant effect of generation: entropy decreases over generations in experiment 1."
   ]
  },
  {
   "cell_type": "markdown",
   "metadata": {},
   "source": [
    "<a id='ent-ex2'></a>"
   ]
  },
  {
   "cell_type": "markdown",
   "metadata": {},
   "source": [
    "### Experiment 2"
   ]
  },
  {
   "cell_type": "markdown",
   "metadata": {},
   "source": [
    "Plot showing the mean entropy at each generation/round of each chain/pair for each condition in experiment 2."
   ]
  },
  {
   "cell_type": "code",
   "execution_count": 55,
   "metadata": {},
   "outputs": [
    {
     "data": {
      "text/plain": [
       "<matplotlib.text.Text at 0x4f91deb8>"
      ]
     },
     "execution_count": 55,
     "metadata": {},
     "output_type": "execute_result"
    },
    {
     "data": {
      "image/png": "[encoded data removed]",
      "text/plain": [
       "<matplotlib.figure.Figure at 0x326aaef0>"
      ]
     },
     "metadata": {},
     "output_type": "display_data"
    }
   ],
   "source": [
    "ent_ex2_plot = sns.factorplot(x='generation', y='entropy', hue='chain',\n",
    "                                col='condition', data=all_ents_ex2, \n",
    "                                size = 5, aspect = 0.8, legend = False,\n",
    "                                markers=['o','^','s', '*', 'D'], scale=1.5,\n",
    "                                col_order = cols_order)\n",
    "\n",
    "ent_ex2_plot.set(ylim=(0,4), ylabel='', xlabel = 'Generation')\n",
    "\n",
    "plt.legend(title='Chain', bbox_to_anchor=(1,1), fontsize=13)\n",
    "\n",
    "ent_ex2_plot.set_titles('{col_name}' )\n",
    "\n",
    "plt.text(-14.5, 3, \"Mean gesture shape entropy\", rotation=90, fontsize=14)\n",
    "\n"
   ]
  },
  {
   "cell_type": "markdown",
   "metadata": {},
   "source": [
    "These plots show the relationship between generation and gesture shape entropy. Entropy decreases over generations in the combined condition, to a lesser extent in the dyadic condition, and variably in the individual condition."
   ]
  },
  {
   "cell_type": "markdown",
   "metadata": {},
   "source": [
    "**Models**"
   ]
  },
  {
   "cell_type": "markdown",
   "metadata": {},
   "source": [
    "Linear mixed effects model testing the effect of condition and generation on gesture shape entropy.\n",
    "\n",
    "N.B. We do include participant as a random effect here, because participants in the interaction-only condition do allow us to obtain a repeated measure for each participant.\n",
    "\n",
    "**Output variable:**\n",
    " * entropy\n",
    "\n",
    "**Fixed effects:**\n",
    " * condition\n",
    " * generation\n",
    " * condition * generation\n",
    " \n",
    "**Random effects:**\n",
    "\n",
    " * chain (random intercept, random slope of generation)\n",
    " * participant (random intercept, participant nested within chains)"
   ]
  },
  {
   "cell_type": "code",
   "execution_count": 56,
   "metadata": {
    "collapsed": true
   },
   "outputs": [],
   "source": [
    "%%R \n",
    "\n",
    "all_ents_ex2 = read.csv('../data_files/all_ents_ex2.csv')\n",
    "all_ents_ex2$condition = relevel(all_ents_ex2$condition, 'Transmission + Interaction')"
   ]
  },
  {
   "cell_type": "code",
   "execution_count": 57,
   "metadata": {
    "collapsed": true
   },
   "outputs": [],
   "source": [
    "%%R\n",
    "\n",
    "\n",
    "# full model with interaction term\n",
    "ent_model_ex2 = lmer(entropy ~ generation * condition +\n",
    "                             (1 + generation|chain) +\n",
    "                             (1|participant:chain),\n",
    "                             data=all_ents_ex2,\n",
    "                             control=lmerControl(optimizer='bobyqa'))\n"
   ]
  },
  {
   "cell_type": "code",
   "execution_count": 58,
   "metadata": {},
   "outputs": [
    {
     "data": {
      "image/png": "[encoded data removed]"
     },
     "metadata": {},
     "output_type": "display_data"
    }
   ],
   "source": [
    "%R plot(fitted(ent_model_ex2), resid(ent_model_ex2))\n",
    "# plot residuals"
   ]
  },
  {
   "cell_type": "code",
   "execution_count": 59,
   "metadata": {},
   "outputs": [
    {
     "name": "stdout",
     "output_type": "stream",
     "text": [
      "Linear mixed model fit by REML. t-tests use Satterthwaite's method [\n",
      "lmerModLmerTest]\n",
      "Formula: entropy ~ generation * condition + (1 + generation | chain) +  \n",
      "    (1 | participant:chain)\n",
      "   Data: all_ents_ex2\n",
      "Control: lmerControl(optimizer = \"bobyqa\")\n",
      "\n",
      "REML criterion at convergence: -152.9\n",
      "\n",
      "Scaled residuals: \n",
      "     Min       1Q   Median       3Q      Max \n",
      "-2.49316 -0.40470  0.03365  0.48770  1.84947 \n",
      "\n",
      "Random effects:\n",
      " Groups            Name        Variance  Std.Dev. Corr\n",
      " participant:chain (Intercept) 0.0153641 0.123952     \n",
      " chain             (Intercept) 0.0054836 0.074052     \n",
      "                   generation  0.0000147 0.003833 1.00\n",
      " Residual                      0.0053993 0.073480     \n",
      "Number of obs: 140, groups:  participant:chain, 90; chain, 5\n",
      "\n",
      "Fixed effects:\n",
      "                                       Estimate Std. Error        df t value\n",
      "(Intercept)                             3.39617    0.04738   7.97000  71.681\n",
      "generation                             -0.12157    0.01123  89.86000 -10.826\n",
      "conditionInteraction only               0.02067    0.03808  82.86000   0.543\n",
      "conditionTransmission only              0.07665    0.04027  69.85000   1.903\n",
      "generation:conditionInteraction only    0.07479    0.01243 129.44000   6.018\n",
      "generation:conditionTransmission only   0.09980    0.01529 128.50000   6.526\n",
      "                                      Pr(>|t|)    \n",
      "(Intercept)                           1.75e-12 ***\n",
      "generation                             < 2e-16 ***\n",
      "conditionInteraction only               0.5887    \n",
      "conditionTransmission only              0.0611 .  \n",
      "generation:conditionInteraction only  1.70e-08 ***\n",
      "generation:conditionTransmission only 1.42e-09 ***\n",
      "---\n",
      "Signif. codes:  0 '***' 0.001 '**' 0.01 '*' 0.05 '.' 0.1 ' ' 1\n",
      "\n",
      "Correlation of Fixed Effects:\n",
      "            (Intr) genrtn cndtIo cndtTo gnr:Io\n",
      "generation  -0.482                            \n",
      "cndtnIntrco -0.412  0.474                     \n",
      "cndtnTrnsmo -0.343  0.394  0.477              \n",
      "gnrtn:cndIo  0.479 -0.822 -0.542 -0.368       \n",
      "gnrtn:cndTo  0.246 -0.503 -0.343 -0.718  0.463\n"
     ]
    }
   ],
   "source": [
    "# print full model output\n",
    "\n",
    "ent_ex2_output = %R capture.output(summary(ent_model_ex2))\n",
    "\n",
    "print_output(ent_ex2_output)"
   ]
  },
  {
   "cell_type": "markdown",
   "metadata": {},
   "source": [
    "The model results support what we see in the plots: entropy reduces over generations in the combined condition. We also see an interaction between generation and condition for both the dyads and the individuals. Entropy in these other conditions does not reduce to the extent that it does in the combined condition."
   ]
  },
  {
   "cell_type": "markdown",
   "metadata": {},
   "source": [
    "<a id='ent-ex3'></a>"
   ]
  },
  {
   "cell_type": "markdown",
   "metadata": {},
   "source": [
    "### Experiment 3"
   ]
  },
  {
   "cell_type": "code",
   "execution_count": 60,
   "metadata": {
    "collapsed": true
   },
   "outputs": [],
   "source": [
    "# create data frame of entropy for each condition\n",
    "\n",
    "pieces = []\n",
    "\n",
    "# for each condition\n",
    "for con in ex3.condition.unique():\n",
    "    \n",
    "    # calculate entropy\n",
    "    \n",
    "    if con == 'ind':\n",
    "        \n",
    "        ents = entropy_all(ex3, con, reg)\n",
    "        \n",
    "        pieces.append(ents)\n",
    "        \n",
    "    else:\n",
    "        \n",
    "        ents = av_entropy_all(ex3, con, reg)\n",
    "        \n",
    "        pieces.append(ents)\n",
    "\n",
    "# create df of all conditions\n",
    "all_ents_ex3 = pd.concat(pieces, ignore_index=True)"
   ]
  },
  {
   "cell_type": "code",
   "execution_count": 61,
   "metadata": {
    "collapsed": true
   },
   "outputs": [],
   "source": [
    "all_ents_ex3.to_csv('../data_files/all_ents_ex3.csv', index=False)"
   ]
  },
  {
   "cell_type": "markdown",
   "metadata": {},
   "source": [
    "Plot showing the mean entropy at each generation/round for each chain/pair for each condition of experiment 3."
   ]
  },
  {
   "cell_type": "code",
   "execution_count": 62,
   "metadata": {},
   "outputs": [
    {
     "data": {
      "text/plain": [
       "<matplotlib.text.Text at 0x502e7a20>"
      ]
     },
     "execution_count": 62,
     "metadata": {},
     "output_type": "execute_result"
    },
    {
     "data": {
      "image/png": "[encoded data removed]",
      "text/plain": [
       "<matplotlib.figure.Figure at 0x31eb5fd0>"
      ]
     },
     "metadata": {},
     "output_type": "display_data"
    }
   ],
   "source": [
    "ent_ex3_plot = sns.factorplot(x='generation', y='entropy', hue='chain',\n",
    "                                col='condition', data=all_ents_ex3, \n",
    "                                size = 5, aspect = 0.8, legend = False,\n",
    "                                markers=['o','^','s', '*', 'D'], scale=1.5,\n",
    "                                col_order = cols_order)\n",
    "\n",
    "ent_ex3_plot.set(ylim=(0,4), ylabel='', xlabel = 'Generation')\n",
    "\n",
    "plt.legend(title='Chain', bbox_to_anchor=(1,1), fontsize=13)\n",
    "\n",
    "ent_ex3_plot.set_titles('{col_name}' )\n",
    "\n",
    "plt.text(-14.5, 3, \"Mean gesture shape entropy\", rotation=90, fontsize=14)\n",
    "\n"
   ]
  },
  {
   "cell_type": "markdown",
   "metadata": {},
   "source": [
    "**Models**"
   ]
  },
  {
   "cell_type": "markdown",
   "metadata": {},
   "source": [
    "Linear mixed effects model testing the effect of condition and generation on gesture shape entropy.\n",
    "\n",
    "Model structure is the same as in experiment 2.\n",
    "\n",
    "**Output variable:**\n",
    " * entropy\n",
    "\n",
    "**Fixed effects:**\n",
    " * condition\n",
    " * generation\n",
    " * condition * generation\n",
    " \n",
    "**Random effects:**\n",
    "\n",
    " * chain (random intercept, random slope of generation)\n",
    " * participant (random intercept, participant nested within chains)"
   ]
  },
  {
   "cell_type": "code",
   "execution_count": 63,
   "metadata": {
    "collapsed": true
   },
   "outputs": [],
   "source": [
    "%%R \n",
    "\n",
    "all_ents_ex3 = read.csv('../data_files/all_ents_ex3.csv')\n",
    "\n",
    "all_ents_ex3$condition = relevel(all_ents_ex3$condition, 'Transmission + Interaction')"
   ]
  },
  {
   "cell_type": "code",
   "execution_count": 64,
   "metadata": {
    "collapsed": true
   },
   "outputs": [],
   "source": [
    "%%R\n",
    "\n",
    "\n",
    "# full model with interaction term\n",
    "ent_model_ex3 = lmer(entropy ~ generation * condition +\n",
    "                             (1 + generation|chain) +\n",
    "                             (1|participant:chain),\n",
    "                             data=all_ents_ex3,\n",
    "                             control=lmerControl(optimizer='bobyqa'))\n"
   ]
  },
  {
   "cell_type": "code",
   "execution_count": 65,
   "metadata": {},
   "outputs": [
    {
     "data": {
      "image/png": "[encoded data removed]"
     },
     "metadata": {},
     "output_type": "display_data"
    }
   ],
   "source": [
    "%R plot(fitted(ent_model_ex3), resid(ent_model_ex3))\n",
    "# plot residuals"
   ]
  },
  {
   "cell_type": "code",
   "execution_count": 66,
   "metadata": {},
   "outputs": [
    {
     "name": "stdout",
     "output_type": "stream",
     "text": [
      "Linear mixed model fit by REML. t-tests use Satterthwaite's method [\n",
      "lmerModLmerTest]\n",
      "Formula: entropy ~ generation * condition + (1 + generation | chain) +  \n",
      "    (1 | participant:chain)\n",
      "   Data: all_ents_ex3\n",
      "Control: lmerControl(optimizer = \"bobyqa\")\n",
      "\n",
      "REML criterion at convergence: -126.9\n",
      "\n",
      "Scaled residuals: \n",
      "     Min       1Q   Median       3Q      Max \n",
      "-2.58803 -0.32922  0.04945  0.43902  1.54632 \n",
      "\n",
      "Random effects:\n",
      " Groups            Name        Variance  Std.Dev.  Corr \n",
      " participant:chain (Intercept) 2.341e-02 0.1529904      \n",
      " chain             (Intercept) 2.527e-07 0.0005027      \n",
      "                   generation  3.194e-04 0.0178725 -1.00\n",
      " Residual                      5.321e-03 0.0729456      \n",
      "Number of obs: 140, groups:  participant:chain, 90; chain, 5\n",
      "\n",
      "Fixed effects:\n",
      "                                       Estimate Std. Error        df t value\n",
      "(Intercept)                             3.40625    0.03828 122.59000  88.987\n",
      "generation                             -0.10461    0.01500  18.74000  -6.972\n",
      "conditionInteraction only              -0.02325    0.03971  71.47000  -0.585\n",
      "conditionTransmission only              0.19225    0.04148  61.55000   4.635\n",
      "generation:conditionInteraction only    0.07589    0.01380 129.42000   5.499\n",
      "generation:conditionTransmission only   0.04857    0.01687 129.61000   2.878\n",
      "                                      Pr(>|t|)    \n",
      "(Intercept)                            < 2e-16 ***\n",
      "generation                            1.31e-06 ***\n",
      "conditionInteraction only              0.56012    \n",
      "conditionTransmission only            1.91e-05 ***\n",
      "generation:conditionInteraction only  1.96e-07 ***\n",
      "generation:conditionTransmission only  0.00468 ** \n",
      "---\n",
      "Signif. codes:  0 '***' 0.001 '**' 0.01 '*' 0.05 '.' 0.1 ' ' 1\n",
      "\n",
      "Correlation of Fixed Effects:\n",
      "            (Intr) genrtn cndtIo cndtTo gnr:Io\n",
      "generation  -0.699                            \n",
      "cndtnIntrco -0.532  0.370                     \n",
      "cndtnTrnsmo -0.441  0.307  0.482              \n",
      "gnrtn:cndIo  0.689 -0.732 -0.479 -0.342       \n",
      "gnrtn:cndTo  0.295 -0.412 -0.323 -0.671  0.454\n"
     ]
    }
   ],
   "source": [
    "ent_ex3_model = %R capture.output(summary(ent_model_ex3))\n",
    "\n",
    "print_output(ent_ex3_model)"
   ]
  },
  {
   "cell_type": "markdown",
   "metadata": {},
   "source": [
    "As above, we see that there is a significant effect of generation: entropy decreases over generations in the combined condition. There is a significant interaction between generation and condition for dyads and individuals - entropy does not decrease over generations as it does in the combined condition."
   ]
  }
 ],
 "metadata": {
  "kernelspec": {
   "display_name": "Python 2",
   "language": "python",
   "name": "python2"
  },
  "language_info": {
   "codemirror_mode": {
    "name": "ipython",
    "version": 2
   },
   "file_extension": ".py",
   "mimetype": "text/x-python",
   "name": "python",
   "nbconvert_exporter": "python",
   "pygments_lexer": "ipython2",
   "version": "2.7.13"
  }
 },
 "nbformat": 4,
 "nbformat_minor": 2
}
